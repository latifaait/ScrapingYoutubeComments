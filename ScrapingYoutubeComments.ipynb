{
 "cells": [
  {
   "cell_type": "code",
   "execution_count": null,
   "metadata": {},
   "outputs": [],
   "source": [
    "from selenium import webdriver\n",
    "import time\n",
    "import re\n",
    "import csv\n",
    "import string\n",
    "import pandas as pd"
   ]
  },
  {
   "cell_type": "code",
   "execution_count": null,
   "metadata": {},
   "outputs": [],
   "source": [
    "#ChromeDriver. WebDriver is an open source tool for automated testing of webapps across many browsers. \n",
    "#It provides capabilities for navigating to web pages, user input, JavaScript execution, and more.\n",
    "\n",
    "#Here It will launch the webdriver\n",
    "driver = webdriver.Chrome(executable_path='Your Chromedriver path here !')\n",
    "driver.get('Your link here!')\n",
    "\n",
    "#Extract the Youtube video title \n",
    "video_titles = driver.find_elements_by_class_name('title')\n",
    "for title in video_titles:\n",
    "    print(title.text)\n",
    "\n",
    "    \n",
    "comment_section = driver.find_element_by_xpath('//*[@id=\"comments\"]')\n",
    "driver.execute_script(\"arguments[0].scrollIntoView();\", comment_section)\n",
    "\n",
    "#wait to load the page\n",
    "time.sleep(9)\n",
    "\n",
    "\n",
    "#Scroll the whole page\n",
    "last_height = driver.execute_script(\"return document.documentElement.scrollHeight\")\n",
    "while True:\n",
    "    # Scroll down to bottom\n",
    "    driver.execute_script(\"window.scrollTo(0, document.documentElement.scrollHeight);\")\n",
    "\n",
    "    # Wait to load page\n",
    "    time.sleep(5)\n",
    "\n",
    "    # Calculate new scroll height and compare with last scroll height\n",
    "    new_height = driver.execute_script(\"return document.documentElement.scrollHeight\")\n",
    "    if new_height == last_height:\n",
    "        break\n",
    "    last_height = new_height\n",
    "    \n",
    "driver.execute_script(\"window.scrollTo(0, document.documentElement.scrollHeight);\")\n",
    "\n",
    "emoji_pattern = re.compile(\"[\"\n",
    "                           u\"\\U0001F600-\\U0001F64F\"  \n",
    "                           u\"\\U0001F300-\\U0001F5FF\"\n",
    "                           u\"\\U0001F680-\\U0001F6FF\"\n",
    "                           u\"\\U0001F1E0-\\U0001F1FF\"\n",
    "                           \"]+\", flags=re.UNICODE)\n",
    "#Extract the comments and authors\n",
    "name_elems = driver.find_elements_by_xpath('//*[@id=\"author-text\"]')\n",
    "comment_elems = driver.find_elements_by_xpath('//*[@id=\"content-text\"]')\n",
    "num_of_names = len(name_elems)\n",
    " \n",
    "#Extract the comments and authors as text    \n",
    "username = []\n",
    "comment = []\n",
    "for i in range(num_of_names):\n",
    "    \n",
    "    username.append(name_elems[i].text  )  \n",
    "   \n",
    "    comment.append(comment_elems[i].text )   \n",
    "    \n",
    "#Upload the data to a CSV file    \n",
    "data = { 'username': username, 'comment': comment}\n",
    "df_product = pd.DataFrame.from_dict(data)\n",
    "df_product.to_csv('AData.csv',  encoding='utf-8-sig')"
   ]
  }
 ],
 "metadata": {
  "kernelspec": {
   "display_name": "Python 3",
   "language": "python",
   "name": "python3"
  },
  "language_info": {
   "codemirror_mode": {
    "name": "ipython",
    "version": 3
   },
   "file_extension": ".py",
   "mimetype": "text/x-python",
   "name": "python",
   "nbconvert_exporter": "python",
   "pygments_lexer": "ipython3",
   "version": "3.7.4"
  }
 },
 "nbformat": 4,
 "nbformat_minor": 2
}
